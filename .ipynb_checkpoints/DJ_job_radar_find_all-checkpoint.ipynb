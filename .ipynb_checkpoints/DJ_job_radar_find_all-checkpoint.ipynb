{
 "cells": [
  {
   "cell_type": "code",
   "execution_count": 1,
   "metadata": {},
   "outputs": [],
   "source": [
    "import requests\n",
    "from bs4 import BeautifulSoup\n",
    "import csv\n",
    "\n",
    "def scrape_one_page(page_url):\n",
    "    jobs= []\n",
    "    r = requests.get(page_url).text\n",
    "    data = BeautifulSoup(r,\"html.parser\")\n",
    "    all_h2 = data.find_all('h2', attrs={'class':\"jobtitle\"}) \n",
    "    #it's a weirdo page that the last item's 'class' is different from above 9, so that we use its sub label h2.\n",
    "    for i in all_h2:\n",
    "        job = []\n",
    "        job.append(i.a['title'])\n",
    "        job.append(i.parent.find('span', attrs={'class':\"company\"}).text.strip()) \n",
    "        #use .parent back to the higher label\n",
    "        job.append(i.parent.find('span', attrs={'class':\"location\"}).text.strip())\n",
    "        job.append(i.parent.find('span', attrs={'class':\"date\"}).text.strip())\n",
    "        job_id = i['id']\n",
    "        job_url = 'https://www.indeed.com/viewjob?jk={}'.format(job_id[3:])\n",
    "        job.append(job_url)\n",
    "        job.append(job_id)\n",
    "        jobs.append(job)\n",
    "    return jobs\n",
    "\n",
    "all_jobs=[]\n",
    "for i in range(0,200,10): #0到200遞增，每次加10\n",
    "    page_url = 'https://www.indeed.com/jobs?q=Data+Journalism+Internship&start={}'.format(i)\n",
    "    all_jobs.extend(scrape_one_page(page_url))\n",
    "    \n",
    "with open('existedjoblist.csv','r') as f:\n",
    "    myreader = csv.reader(f)\n",
    "    ids_existed = [row[5] for row in myreader]\n",
    "\n",
    "with open('newjoblist.csv','w') as g:\n",
    "    mywriter = csv.writer(g)\n",
    "    header=['Title','Company','Location','Date','URL','ID']\n",
    "    mywriter.writerow(header)\n",
    "    for i in all_jobs:\n",
    "        if i[5] not in ids_existed:\n",
    "            mywriter.writerow(i)\n",
    "            \n",
    "# with open('existedjoblist.csv','w') as h:\n",
    "#     mywriter=csv.writer(h)\n",
    "#     header=['Title','Company','Location','Date','URL','ID']\n",
    "#     mywriter.writerow(header) \n",
    "#     mywriter.writerows(all_jobs)"
   ]
  }
 ],
 "metadata": {
  "kernelspec": {
   "display_name": "Python 3",
   "language": "python",
   "name": "python3"
  },
  "language_info": {
   "codemirror_mode": {
    "name": "ipython",
    "version": 3
   },
   "file_extension": ".py",
   "mimetype": "text/x-python",
   "name": "python",
   "nbconvert_exporter": "python",
   "pygments_lexer": "ipython3",
   "version": "3.7.0"
  }
 },
 "nbformat": 4,
 "nbformat_minor": 2
}
