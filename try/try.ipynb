{
 "cells": [
  {
   "cell_type": "code",
   "execution_count": 39,
   "metadata": {},
   "outputs": [
    {
     "name": "stdout",
     "output_type": "stream",
     "text": [
      "[{'title': 'Marketing and Communications Coordinator'}, {'title': 'Chief Communications Officer, UCLA Hammer Museum'}, {'title': 'Content and Social Media Manager'}, {'title': 'Public Relations Account Executive'}, {'title': 'General Assignment Reporter, KABC-TV'}, {'title': 'Communications Specialist'}, {'title': 'Associate Professor - Critical Journalism Studies'}, {'title': 'Assistant Professor - Critical Journalism Studies'}, {'title': 'Writer and Media Specialist (7477U) Job 25438 - CoE/ College Relations'}, {'title': 'Communications & Volunteer Program Coordinator'}, {'title': 'Communications Coordinator'}, {'title': 'Digital Engagement and Marketing Specialist'}, {'title': 'Operations Coordinator (Public Affairs/ Communication Specialist II)/ CAL-Coyote Radio & Advertising'}, {'title': 'Front-end Developer (Off Site -Remote Work)'}, {'title': 'Assistant Director of Marketing'}, {'title': 'Marketing & Communications Specialist'}, {'title': 'Assistant Professor of Computer Science - Tenure-Track'}, {'title': 'Events and Online Marketing Manager'}, {'title': 'Marketing and Communications Manager'}, {'title': 'Administrative Assistant, L.A. Film Studies Center'}, {'title': 'Director, Media Advocacy (CA #1819-38)'}, {'title': 'PUBLIC AFFAIRS/ COMMUNICATIONS SPECIALIST I'}, {'title': 'Manager and Communications Manager'}, {'title': 'Assistant Professor: City Planning/ Innovation'}, {'title': 'Biomedical Semantic Applications Programmer'}]\n"
     ]
    }
   ],
   "source": [
    "import requests\n",
    "from bs4 import BeautifulSoup\n",
    "import csv\n",
    "page_url = 'https://careers.journalists.org/jobs/search?SEO=1&job=10753217&page=1'\n",
    "jobs= []\n",
    "r = requests.get(page_url).text\n",
    "mypage = BeautifulSoup(r,\"html.parser\")\n",
    "myjob=mypage.find_all('a', attrs = {'class':\"bti-job-detail-link\"})\n",
    "for i in range(0,len(myjob)):\n",
    "    job = {}\n",
    "    job['title']=myjob[i].attrs['title']  \n",
    "    job['website']=\n",
    "    jobs.append(job)\n",
    "print(jobs)\n",
    "# with open('jobla.csv','w',newline='') as f:\n",
    "#     mywriter=csv.writer(f)\n",
    "#     mywriter.writerows(jobs)"
   ]
  },
  {
   "cell_type": "code",
   "execution_count": null,
   "metadata": {},
   "outputs": [],
   "source": [
    "for i in range(0,n):\n",
    "    job = {}\n",
    "    job['title'] = data.find_all('h2', attrs={'class':\"jobtitle\"})[i].a['title']\n",
    "    job['date'] = data.find_all('span', attrs={'class':\"date\"})[i].text.strip()\n",
    "    job['company'] = data.find_all('span', attrs={'class':\"company\"})[i].text.strip()\n",
    "    job['location'] = data.find_all('span', attrs={'class':\"location\"})[i].text.strip()\n",
    "    #job['reviews'] = data.find_all('span', attrs={'class':\"slNoUnderline\"})[i].text.strip()\n",
    "    jobs.append(job)"
   ]
  }
 ],
 "metadata": {
  "kernelspec": {
   "display_name": "Python 3",
   "language": "python",
   "name": "python3"
  },
  "language_info": {
   "codemirror_mode": {
    "name": "ipython",
    "version": 3
   },
   "file_extension": ".py",
   "mimetype": "text/x-python",
   "name": "python",
   "nbconvert_exporter": "python",
   "pygments_lexer": "ipython3",
   "version": "3.7.0"
  }
 },
 "nbformat": 4,
 "nbformat_minor": 2
}
