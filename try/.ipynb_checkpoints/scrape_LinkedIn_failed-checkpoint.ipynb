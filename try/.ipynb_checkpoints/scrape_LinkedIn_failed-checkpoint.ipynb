{
 "cells": [
  {
   "cell_type": "code",
   "execution_count": 1,
   "metadata": {},
   "outputs": [],
   "source": [
    "import requests\n",
    "from selenium import webdriver\n",
    "import time\n",
    "import csv\n",
    "browser = webdriver.Chrome() \n",
    "url='https://www.linkedin.com/jobs/search/?keywords=data%20journalist&locationId=OTHERS.worldwide'\n",
    "browser.get(url,)\n",
    "time.sleep(3)"
   ]
  },
  {
   "cell_type": "code",
   "execution_count": 3,
   "metadata": {},
   "outputs": [
    {
     "ename": "NameError",
     "evalue": "name 'json' is not defined",
     "output_type": "error",
     "traceback": [
      "\u001b[0;31m---------------------------------------------------------------------------\u001b[0m",
      "\u001b[0;31mNameError\u001b[0m                                 Traceback (most recent call last)",
      "\u001b[0;32m<ipython-input-3-1c110a52f967>\u001b[0m in \u001b[0;36m<module>\u001b[0;34m()\u001b[0m\n\u001b[1;32m      4\u001b[0m \u001b[0;31m# 获取cookie并通过json模块将dict转化成str\u001b[0m\u001b[0;34m\u001b[0m\u001b[0;34m\u001b[0m\u001b[0m\n\u001b[1;32m      5\u001b[0m \u001b[0mdictCookies\u001b[0m \u001b[0;34m=\u001b[0m \u001b[0mbrowser\u001b[0m\u001b[0;34m.\u001b[0m\u001b[0mget_cookies\u001b[0m\u001b[0;34m(\u001b[0m\u001b[0;34m)\u001b[0m\u001b[0;34m\u001b[0m\u001b[0m\n\u001b[0;32m----> 6\u001b[0;31m \u001b[0mjsonCookies\u001b[0m \u001b[0;34m=\u001b[0m \u001b[0mjson\u001b[0m\u001b[0;34m.\u001b[0m\u001b[0mdumps\u001b[0m\u001b[0;34m(\u001b[0m\u001b[0mdictCookies\u001b[0m\u001b[0;34m)\u001b[0m\u001b[0;34m\u001b[0m\u001b[0m\n\u001b[0m\u001b[1;32m      7\u001b[0m \u001b[0;31m# 登录完成后，将cookie保存到本地文件\u001b[0m\u001b[0;34m\u001b[0m\u001b[0;34m\u001b[0m\u001b[0m\n\u001b[1;32m      8\u001b[0m \u001b[0;32mwith\u001b[0m \u001b[0mopen\u001b[0m\u001b[0;34m(\u001b[0m\u001b[0;34m'cookies.json'\u001b[0m\u001b[0;34m,\u001b[0m \u001b[0;34m'w'\u001b[0m\u001b[0;34m)\u001b[0m \u001b[0;32mas\u001b[0m \u001b[0mf\u001b[0m\u001b[0;34m:\u001b[0m\u001b[0;34m\u001b[0m\u001b[0m\n",
      "\u001b[0;31mNameError\u001b[0m: name 'json' is not defined"
     ]
    }
   ],
   "source": [
    "'''\n",
    "前面部分代码用于填写登录信息并登录\n",
    "'''\n",
    "# 获取cookie并通过json模块将dict转化成str\n",
    "dictCookies = browser.get_cookies()\n",
    "jsonCookies = json.dumps(dictCookies)\n",
    "# 登录完成后，将cookie保存到本地文件\n",
    "with open('cookies.json', 'w') as f:\n",
    "    f.write(jsonCookies)"
   ]
  },
  {
   "cell_type": "code",
   "execution_count": null,
   "metadata": {},
   "outputs": [],
   "source": [
    "# 初次建立连接，随后方可修改cookie\n",
    "self.browser.get('https://www.linkedin.com/jobs/search/?keywords=data%20journalist&locationId=OTHERS.worldwide')\n",
    "# 删除第一次建立连接时的cookie\n",
    "self.browser.delete_all_cookies()\n",
    "# 读取登录时存储到本地的cookie\n",
    "with open('cookies.json', 'r', encoding='utf-8') as f:\n",
    "    listCookies = json.loads(f.read())\n",
    "for cookie in listCookies:\n",
    "    self.browser.add_cookie({\n",
    "        'domain': '.linkedin.com/jobs/search/?keywords=data%20journalist&locationId=OTHERS.worldwide',  # 此处xxx.com前，需要带点\n",
    "        'name': cookie['name'],\n",
    "        'value': cookie['value'],\n",
    "        'path': '/',\n",
    "        'expires': None\n",
    "    })\n",
    "# 再次访问页面，便可实现免登陆访问\n",
    "self.browser.get('http://https://www.linkedin.com/jobs/search/?keywords=data%20journalist&locationId=OTHERS.worldwide')"
   ]
  }
 ],
 "metadata": {
  "kernelspec": {
   "display_name": "Python 3",
   "language": "python",
   "name": "python3"
  },
  "language_info": {
   "codemirror_mode": {
    "name": "ipython",
    "version": 3
   },
   "file_extension": ".py",
   "mimetype": "text/x-python",
   "name": "python",
   "nbconvert_exporter": "python",
   "pygments_lexer": "ipython3",
   "version": "3.7.0"
  }
 },
 "nbformat": 4,
 "nbformat_minor": 2
}
