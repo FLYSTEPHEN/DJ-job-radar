{
 "cells": [
  {
   "cell_type": "code",
   "execution_count": 17,
   "metadata": {},
   "outputs": [
    {
     "data": {
      "text/plain": [
       "<bound method WebElement.click of <selenium.webdriver.remote.webelement.WebElement (session=\"0d0d49c25d5939bfe07eb68b16bfcf2c\", element=\"0.7007709898124679-1\")>>"
      ]
     },
     "execution_count": 17,
     "metadata": {},
     "output_type": "execute_result"
    }
   ],
   "source": [
    "import requests\n",
    "from selenium import webdriver\n",
    "import time\n",
    "import csv\n",
    "browser = webdriver.Chrome() \n",
    "url='https://www.linkedin.com/jobs/search/?keywords=data%20journalist&locationId=OTHERS.worldwide'\n",
    "browser.get(url)\n",
    "time.sleep(3)\n",
    "ele=browser.find_element_by_xpath(\"//a[@class='form-toggle']\")\n",
    "ele.click"
   ]
  },
  {
   "cell_type": "code",
   "execution_count": null,
   "metadata": {},
   "outputs": [],
   "source": []
  }
 ],
 "metadata": {
  "kernelspec": {
   "display_name": "Python 3",
   "language": "python",
   "name": "python3"
  },
  "language_info": {
   "codemirror_mode": {
    "name": "ipython",
    "version": 3
   },
   "file_extension": ".py",
   "mimetype": "text/x-python",
   "name": "python",
   "nbconvert_exporter": "python",
   "pygments_lexer": "ipython3",
   "version": "3.7.0"
  }
 },
 "nbformat": 4,
 "nbformat_minor": 2
}
