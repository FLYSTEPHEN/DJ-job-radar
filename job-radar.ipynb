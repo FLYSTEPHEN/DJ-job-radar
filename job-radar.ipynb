{
 "cells": [
  {
   "cell_type": "code",
   "execution_count": 1,
   "metadata": {},
   "outputs": [],
   "source": [
    "import requests\n",
    "from bs4 import BeautifulSoup\n",
    "import csv"
   ]
  },
  {
   "cell_type": "code",
   "execution_count": 2,
   "metadata": {},
   "outputs": [],
   "source": [
    "def scrape_careers(data):\n",
    "    jobs= []\n",
    "    all_div = data.find_all('div', attrs={'class':\"bti-ui-job-detail-container\"}) \n",
    "    for i in all_div:\n",
    "        job=[]\n",
    "        job.append(i.find('a').text)\n",
    "        job.append(i.find('div', attrs={'class':\"bti-ui-job-result-detail-employer\"}).text.strip())\n",
    "        job.append(i.find('div', attrs={'class':\"bti-ui-job-result-detail-location\"}).text.strip())\n",
    "        job.append(i.find('div', attrs={'class':\"bti-ui-job-result-detail-age\"}).text.strip())\n",
    "        job.append('https://careers.journalists.org{}'.format(i.find('a')['href']))\n",
    "        jobs.append(job)\n",
    "    return jobs\n",
    "\n",
    "def scrape_indeed(data):\n",
    "    jobs= []\n",
    "    all_h2 = data.find_all('h2', attrs={'class':\"jobtitle\"}) \n",
    "    #it's a weirdo page that the last item's 'class' is different from above 9, so that we use its sub label h2.\n",
    "    for i in all_h2:\n",
    "        job = []\n",
    "        job.append(i.a['title'])\n",
    "        job.append(i.parent.find('span', attrs={'class':\"company\"}).text.strip()) \n",
    "        #use .parent back to the higher label\n",
    "        job.append(i.parent.find('span', attrs={'class':\"location\"}).text.strip())\n",
    "        job.append(i.parent.find('span', attrs={'class':\"date\"}).text.strip())\n",
    "        job.append('https://www.indeed.com/viewjob?jk={}'.format(i['id'][3:]))\n",
    "        if job not in all_jobs:\n",
    "            jobs.append(job)\n",
    "        #when the index url exceeds the range of pages in indeed, the page will become circulation, so that we should do duplicate checking\n",
    "    return jobs\n",
    "\n",
    "def scrape_jobsdb(data):\n",
    "    jobs= []\n",
    "    all_div = data.find_all('div', attrs={'class':\"_3ASfTyv _2EUSthc\"}) \n",
    "    for i in all_div:\n",
    "        job=[]\n",
    "        job.append(i.find('div', attrs={'class':\"_3gfm7U9 _3ho-Knb _2swcdgn\"}).a.text)\n",
    "        job.append(i.find('div', attrs={'class':\"_1NdWRqw _3ho-Knb _2swcdgn\"}).find('span').text)\n",
    "        job.append(i.find('div', attrs={'class':\"_124cxoK _3ho-Knb _2swcdgn\"}).find('span').text)\n",
    "        job.append(i.find('span', attrs={'class':\"JG37Vx2 _3Re95QG _2XGgj_O\"}).find('span').text)\n",
    "        job.append(i.find('div', attrs={'class':\"_3gfm7U9 _3ho-Knb _2swcdgn\"}).a['href'])\n",
    "        jobs.append(job)\n",
    "    return jobs"
   ]
  },
  {
   "cell_type": "code",
   "execution_count": 3,
   "metadata": {},
   "outputs": [],
   "source": [
    "websites = [\n",
    "    {\n",
    "        \"website\": 'careers',\n",
    "        \"base_url\": 'https://careers.journalists.org/jobs/?keywords=data+OR+journalist&page=',\n",
    "        \"starting_index\": 1,        \n",
    "        \"step\": 1,\n",
    "        \"function\": scrape_careers\n",
    "    }, \n",
    "    {\n",
    "        \"website\": 'indeed',\n",
    "        \"base_url\": 'https://www.indeed.com/jobs?q=Data+Journalist+Internship&start=',\n",
    "        \"starting_index\": 0,        \n",
    "        \"step\": 10,\n",
    "        \"function\": scrape_indeed \n",
    "    },\n",
    "    {\n",
    "        \"website\": 'jobsdb',\n",
    "        \"base_url\": 'https://hk.jobsdb.com/hk/search-jobs/data-journalist/',\n",
    "        \"starting_index\": 1,        \n",
    "        \"step\": 1,\n",
    "        \"function\": scrape_jobsdb\n",
    "    },\n",
    "]  "
   ]
  },
  {
   "cell_type": "code",
   "execution_count": 4,
   "metadata": {},
   "outputs": [],
   "source": [
    "def scrape_all_pages(base_url,starting_index,step,function):\n",
    "    global all_jobs\n",
    "    all_jobs=[] \n",
    "    page_index = starting_index\n",
    "    while True: \n",
    "        page_url = '{}{}'.format(base_url,page_index)\n",
    "        try:\n",
    "            r = requests.get(page_url)\n",
    "            data = BeautifulSoup(r.text,\"html.parser\")\n",
    "            jobs = function(data)\n",
    "        except:\n",
    "            jobs = []    \n",
    "        if jobs == []: #if all jobs have been scraped, break the loop\n",
    "            break\n",
    "        all_jobs.extend(jobs)\n",
    "        if len(all_jobs) > 50: #only scrape 50 jobs from each website\n",
    "            break\n",
    "        page_index += step  #level is in url to indiccate different pages' index\n",
    "#     all_jobs.sort(key=lambda item: item[3], reverse=False) \n",
    "\n",
    "def store_new_jobs(website):\n",
    "    try:\n",
    "        with open('existedjobs-{}.csv'.format(website),'r+') as e:\n",
    "            jobs_existed = [row for row in csv.reader(e)]\n",
    "            e.seek(0,0) #return to the beginning\n",
    "            csv.writer(e).writerows(all_jobs)\n",
    "    except FileNotFoundError:\n",
    "        with open('existedjobs-{}.csv'.format(website),'w') as e:\n",
    "            jobs_existed = []\n",
    "            csv.writer(e).writerows(all_jobs)\n",
    "    with open('newjobs.csv','w') as n:\n",
    "        for i in all_jobs:\n",
    "            if i not in jobs_existed: #duplicate checking\n",
    "                csv.writer(n).writerow(i)"
   ]
  },
  {
   "cell_type": "code",
   "execution_count": 5,
   "metadata": {},
   "outputs": [],
   "source": [
    "for i in websites:\n",
    "    scrape_all_pages(i[\"base_url\"],i[\"starting_index\"],i[\"step\"],i[\"function\"])\n",
    "    store_new_jobs(i[\"website\"])"
   ]
  },
  {
   "cell_type": "code",
   "execution_count": 6,
   "metadata": {},
   "outputs": [
    {
     "data": {
      "text/html": [
       "<div>\n",
       "<style scoped>\n",
       "    .dataframe tbody tr th:only-of-type {\n",
       "        vertical-align: middle;\n",
       "    }\n",
       "\n",
       "    .dataframe tbody tr th {\n",
       "        vertical-align: top;\n",
       "    }\n",
       "\n",
       "    .dataframe thead th {\n",
       "        text-align: right;\n",
       "    }\n",
       "</style>\n",
       "<table border=\"1\" class=\"dataframe\">\n",
       "  <thead>\n",
       "    <tr style=\"text-align: right;\">\n",
       "      <th></th>\n",
       "      <th>Title</th>\n",
       "      <th>Company</th>\n",
       "      <th>Location</th>\n",
       "      <th>Date</th>\n",
       "      <th>URL</th>\n",
       "    </tr>\n",
       "  </thead>\n",
       "  <tbody>\n",
       "  </tbody>\n",
       "</table>\n",
       "</div>"
      ],
      "text/plain": [
       "Empty DataFrame\n",
       "Columns: [Title, Company, Location, Date, URL]\n",
       "Index: []"
      ]
     },
     "execution_count": 6,
     "metadata": {},
     "output_type": "execute_result"
    }
   ],
   "source": [
    "import pandas\n",
    "df = pandas.read_csv('newjobs.csv', header=None, names=['Title','Company','Location','Date','URL'])\n",
    "df"
   ]
  }
 ],
 "metadata": {
  "kernelspec": {
   "display_name": "Python 3",
   "language": "python",
   "name": "python3"
  },
  "language_info": {
   "codemirror_mode": {
    "name": "ipython",
    "version": 3
   },
   "file_extension": ".py",
   "mimetype": "text/x-python",
   "name": "python",
   "nbconvert_exporter": "python",
   "pygments_lexer": "ipython3",
   "version": "3.7.0"
  }
 },
 "nbformat": 4,
 "nbformat_minor": 2
}
